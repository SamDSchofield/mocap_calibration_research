{
 "cells": [
  {
   "cell_type": "code",
   "execution_count": 1,
   "metadata": {},
   "outputs": [],
   "source": [
    "from __future__ import division, print_function, absolute_import\n",
    "\n",
    "import time\n",
    "import random\n",
    "import glob\n",
    "import os.path\n",
    "import textwrap\n",
    "\n",
    "from IPython.display import display, HTML, Image, Latex\n",
    "\n",
    "%matplotlib inline\n",
    "%config InlineBackend.figure_format='retina'\n",
    "import matplotlib.pyplot as plt\n",
    "import matplotlib.gridspec as gridspec\n",
    "plt.rcParams['figure.figsize'] = 8, 8\n",
    "import seaborn as sns\n",
    "sns.set_style('white')\n",
    "\n",
    "import numpy as np\n",
    "import pandas as pd\n",
    "import scipy.optimize\n",
    "import scipy.spatial\n",
    "import scipy.stats\n",
    "import cv2\n",
    "from tf import transformations"
   ]
  },
  {
   "cell_type": "markdown",
   "metadata": {},
   "source": [
    "Load all the data"
   ]
  },
  {
   "cell_type": "code",
   "execution_count": 130,
   "metadata": {},
   "outputs": [],
   "source": [
    "# is_checkerboard = True\n",
    "is_checkerboard = False\n",
    "# data = np.load(\"../data/board_data.npz\")\n",
    "data = np.load(\"../data/marker_data.npz\")\n",
    "\n",
    "bag_files = data['bag_files']\n",
    "\n",
    "calibration_object_marker_counts = data['calibration_object_marker_counts']\n",
    "camera_marker_counts = data['camera_marker_counts']\n",
    "\n",
    "camera_matrix = data['camera_matrix']\n",
    "distortion_coeffs = data['distortion_coeffs']\n",
    "\n",
    "T_c_o = data['cam_to_optical_frame']\n",
    "camera_rb_poses = data['camera_rb_poses']\n",
    "\n",
    "all_image_coordinates = data['image_coordinates']\n",
    "all_object_coordinates = data['object_coordinates']"
   ]
  },
  {
   "cell_type": "markdown",
   "metadata": {},
   "source": [
    "Start byremoving any rows where there are not enough camera or calibration markers"
   ]
  },
  {
   "cell_type": "code",
   "execution_count": 131,
   "metadata": {},
   "outputs": [
    {
     "name": "stdout",
     "output_type": "stream",
     "text": [
      "(41,)\n"
     ]
    }
   ],
   "source": [
    "def create_insufficient_markers_mask(camera_marker_counts, calibration_object_marker_counts, expected_camera_marker_count, expected_calibration_object_marker_count):\n",
    "    camera_mask = camera_marker_counts == expected_camera_marker_count\n",
    "    object_mask = calibration_object_marker_counts == expected_calibration_object_marker_count\n",
    "    return np.logical_and(camera_mask, object_mask)\n",
    "\n",
    "if is_checkerboard:\n",
    "    filter_mask = create_insufficient_markers_mask(\n",
    "    camera_marker_counts, calibration_object_marker_counts, 5, 5)\n",
    "else:\n",
    "    print(calibration_object_marker_counts.shape)\n",
    "    filter_mask = create_insufficient_markers_mask(\n",
    "        camera_marker_counts, calibration_object_marker_counts, 6, 14)\n",
    "\n",
    "camera_rb_poses = camera_rb_poses[filter_mask]\n",
    "all_image_coordinates = all_image_coordinates[filter_mask]\n",
    "all_object_coordinates = all_object_coordinates[filter_mask]"
   ]
  },
  {
   "cell_type": "markdown",
   "metadata": {},
   "source": [
    "Generate optical frame priors using rigid body poses and camera->optical frame transform (assume misalignment is 0)"
   ]
  },
  {
   "cell_type": "code",
   "execution_count": 132,
   "metadata": {},
   "outputs": [],
   "source": [
    "def calculate_optical_frame_poses(camera_rb_poses, T_r_c, T_c_o):\n",
    "    optical_frame_poses = []\n",
    "    for camera_rigid_body_pose in camera_rb_poses:\n",
    "        T_m_c = np.matmul(camera_rigid_body_pose, T_r_c)\n",
    "        T_m_o = np.matmul(T_m_c, T_c_o)\n",
    "        optical_frame_poses.append(T_m_o)\n",
    "    return optical_frame_poses\n",
    "\n",
    "optical_frame_priors = calculate_optical_frame_poses(camera_rb_poses, np.identity(4), T_c_o)"
   ]
  },
  {
   "cell_type": "markdown",
   "metadata": {},
   "source": [
    "Find rough 2D-3D correspondences. We will improve this later."
   ]
  },
  {
   "cell_type": "code",
   "execution_count": 133,
   "metadata": {},
   "outputs": [],
   "source": [
    "def match_checkerboard_corners(image_coords, object_coords, camera_pose_prior, camera_matrix, distortion_coeffs):\n",
    "    \"\"\"Utilizes the fact that the image coords and object coords are in the same order bar missing corners\"\"\"\n",
    "    # If they are the same length then they are in the right order\n",
    "    if len(image_coords) == len(object_coords):\n",
    "        return object_coords\n",
    "\n",
    "    # This is the worst case for how wrong the indices are\n",
    "    diff = len(object_coords) - len(image_coords)  \n",
    "    \n",
    "    _, _, rotation, translation, _ = transformations.decompose_matrix(np.linalg.inv(camera_pose_prior))\n",
    "    rotation = transformations.euler_matrix(*rotation)\n",
    "    rotation, _ = cv2.Rodrigues(rotation[:3, :3])\n",
    "    projected_coords, _ = cv2.projectPoints(object_coords, rotation, translation, camera_matrix, distortion_coeffs)\n",
    "    projected_coords = projected_coords.squeeze()\n",
    "    \n",
    "    matched_object_coords = []\n",
    "    matched_proj_coords = []\n",
    "    for i, image_coord in enumerate(image_coords):\n",
    "        best_match = projected_coords[i]\n",
    "        best_object_coord = object_coords[i]\n",
    "        # Find the object coord that matches the image coord within the possible options\n",
    "        for proj_coord, object_coord in zip(projected_coords[i:i+diff+1], object_coords[i:i+diff+1]):\n",
    "            if np.linalg.norm(image_coord - proj_coord) < np.linalg.norm(image_coord - best_match):\n",
    "                best_match = proj_coord\n",
    "                best_object_coord = object_coord\n",
    "        matched_proj_coords.append(best_match)\n",
    "        matched_object_coords.append(best_object_coord)    \n",
    "    return np.array(matched_object_coords).squeeze()\n",
    "    \n",
    "\n",
    "def match_markers(image_coords, object_coords, camera_pose_prior, camera_matrix, distortion_coeffs):\n",
    "    \"\"\"Return image_coords sorted into the same order as projected_coords.\"\"\"\n",
    "    _, _, rotation, translation, _ = transformations.decompose_matrix(np.linalg.inv(camera_pose_prior))\n",
    "    rotation = transformations.euler_matrix(*rotation)\n",
    "    rotation, _ = cv2.Rodrigues(rotation[:3, :3])\n",
    "    projected_coords, _ = cv2.projectPoints(object_coords, rotation, translation, camera_matrix, distortion_coeffs)\n",
    "    projected_coords = projected_coords.squeeze()\n",
    "    tree = scipy.spatial.cKDTree(projected_coords)\n",
    "    dists, indices = tree.query(image_coords, k=1)\n",
    "    return object_coords[indices]\n",
    "\n",
    "matched_object_coordinates = []\n",
    "for i, (image_coordinates, object_coordinates, optical_frame_prior) in enumerate(zip(all_image_coordinates, all_object_coordinates, optical_frame_priors)):\n",
    "    if is_checkerboard:\n",
    "        matched_object_coordinates.append(match_checkerboard_corners(image_coordinates, object_coordinates, optical_frame_prior, camera_matrix, distortion_coeffs))\n",
    "    else:\n",
    "        matched_object_coordinates.append(match_markers(image_coordinates, object_coordinates, optical_frame_prior, camera_matrix, distortion_coeffs))\n",
    "\n",
    "matched_object_coordinates = np.array(matched_object_coordinates)"
   ]
  },
  {
   "cell_type": "markdown",
   "metadata": {},
   "source": [
    "Find the misalignment transforms $T_{rc}$"
   ]
  },
  {
   "cell_type": "code",
   "execution_count": 134,
   "metadata": {},
   "outputs": [],
   "source": [
    "def estimate_pose_ransac(image_coords, object_coords, camera_matrix, distortion_coeffs):\n",
    "    _, rotation, translation, _ = cv2.solvePnPRansac(object_coords, image_coords, camera_matrix, distortion_coeffs, flags=cv2.SOLVEPNP_P3P, iterationsCount=500)\n",
    "    rotation, _ = cv2.Rodrigues(rotation)\n",
    "    T_o_m = transformations.compose_matrix(translate=translation.squeeze(), angles=transformations.euler_from_matrix(rotation))\n",
    "    T_m_o = np.linalg.inv(T_o_m)\n",
    "    return T_m_o\n",
    "\n",
    "\n",
    "calibration_transforms = []\n",
    "for image_coordinates, object_coordinates, camera_rb_pose in zip(all_image_coordinates, matched_object_coordinates, camera_rb_poses):\n",
    "    optical_frame_pose = estimate_pose_ransac(image_coordinates, object_coordinates, camera_matrix, distortion_coeffs)\n",
    "    camera_link_pose = np.matmul(optical_frame_pose, np.linalg.inv(T_c_o))\n",
    "    calibration_transform = np.matmul(np.linalg.inv(camera_rb_pose), camera_link_pose)\n",
    "    calibration_transforms.append(calibration_transform)"
   ]
  },
  {
   "cell_type": "markdown",
   "metadata": {},
   "source": [
    "Convert into (x, y, z, rx, ry, rz) format"
   ]
  },
  {
   "cell_type": "code",
   "execution_count": 135,
   "metadata": {},
   "outputs": [],
   "source": [
    "def Ts_to_tfs(Ts):\n",
    "    calibration_tfs = []\n",
    "    for transform in calibration_transforms:\n",
    "        _, _, rotation, translation, _ = transformations.decompose_matrix(transform)\n",
    "        calibration_tfs.append(np.append(translation, np.degrees(rotation)))\n",
    "    return calibration_tfs\n",
    "\n",
    "calibration_tfs = Ts_to_tfs(calibration_transforms)"
   ]
  },
  {
   "cell_type": "markdown",
   "metadata": {},
   "source": [
    "Remove outliers"
   ]
  },
  {
   "cell_type": "code",
   "execution_count": 136,
   "metadata": {},
   "outputs": [
    {
     "name": "stdout",
     "output_type": "stream",
     "text": [
      "41\n",
      "41\n"
     ]
    }
   ],
   "source": [
    "def remove_outliers(calibration_tfs):\n",
    "    estimate = np.array([0, 0, 0, 0, 0, 0])\n",
    "    tolerences = [0.05, 0.05, 0.05, 5, 5, 5]\n",
    "    estimate_mask = np.any(np.abs(calibration_tfs - estimate) < tolerences, axis=1)\n",
    "\n",
    "    tolerences = [0.05, 0.05, 0.05, 5, 5, 5]\n",
    "    medians = np.median(calibration_tfs, axis=0)\n",
    "    median_mask = np.any(np.abs(calibration_tfs - medians) < tolerences, axis=1)\n",
    "    \n",
    "    mask = estimate_mask & median_mask\n",
    "    return np.array(calibration_tfs)[mask], mask\n",
    "\n",
    "print(len(calibration_tfs))\n",
    "calibration_tf_inliers, _ = remove_outliers(calibration_tfs)\n",
    "print(len(calibration_tf_inliers))"
   ]
  },
  {
   "cell_type": "code",
   "execution_count": 137,
   "metadata": {},
   "outputs": [
    {
     "name": "stdout",
     "output_type": "stream",
     "text": [
      "[ 0.00331062  0.01202471 -0.0108471  -0.80338718  1.26910746 -1.59938756]\n"
     ]
    }
   ],
   "source": [
    "initial_estimate = np.mean(calibration_tf_inliers, axis=0)\n",
    "print(initial_estimate)\n",
    "initial_estimate = transformations.compose_matrix(translate=initial_estimate[:3], angles=np.radians(initial_estimate[3:]))"
   ]
  },
  {
   "cell_type": "markdown",
   "metadata": {},
   "source": [
    "Now we can use this to do better matching"
   ]
  },
  {
   "cell_type": "code",
   "execution_count": 138,
   "metadata": {},
   "outputs": [],
   "source": [
    "optical_frame_priors = calculate_optical_frame_poses(camera_rb_poses, initial_estimate, T_c_o)\n",
    "matched_object_coordinates = []\n",
    "for i, (image_coordinates, object_coordinates, optical_frame_prior) in enumerate(zip(all_image_coordinates, all_object_coordinates, optical_frame_priors)):\n",
    "    matched_object_coordinates.append(match_markers(image_coordinates, object_coordinates, optical_frame_prior, camera_matrix, distortion_coeffs))\n",
    "matched_object_coordinates = np.array(matched_object_coordinates)"
   ]
  },
  {
   "cell_type": "markdown",
   "metadata": {},
   "source": [
    "Now recaulate the poses using all the markers"
   ]
  },
  {
   "cell_type": "code",
   "execution_count": 139,
   "metadata": {},
   "outputs": [
    {
     "name": "stdout",
     "output_type": "stream",
     "text": [
      "41\n",
      "41\n"
     ]
    }
   ],
   "source": [
    "def estimate_pose(image_coords, object_coords, camera_matrix, distortion_coeffs, initial_guess):\n",
    "    _, rotation, translation = cv2.solvePnP(object_coords, image_coords, camera_matrix, distortion_coeffs, flags=cv2.SOLVEPNP_ITERATIVE)\n",
    "    rotation, _ = cv2.Rodrigues(rotation)\n",
    "    T_o_m = transformations.compose_matrix(translate=translation.squeeze(), angles=transformations.euler_from_matrix(rotation))\n",
    "    T_m_o = np.linalg.inv(T_o_m)\n",
    "    return T_m_o\n",
    "\n",
    "better_calibration_transforms = []\n",
    "for image_coordinates, object_coordinates, camera_rb_pose in zip(all_image_coordinates, matched_object_coordinates, camera_rb_poses):\n",
    "    optical_frame_pose = estimate_pose(image_coordinates, object_coordinates, camera_matrix, distortion_coeffs, initial_estimate)\n",
    "    camera_link_pose = np.matmul(optical_frame_pose, np.linalg.inv(T_c_o))\n",
    "    calibration_transform = np.matmul(np.linalg.inv(camera_rb_pose), camera_link_pose)\n",
    "    better_calibration_transforms.append(calibration_transform)\n",
    "    \n",
    "better_calibration_tfs = Ts_to_tfs(better_calibration_transforms)\n",
    "print(len(calibration_tfs))\n",
    "better_calibration_tfs, mask = remove_outliers(better_calibration_tfs)\n",
    "print(len(calibration_tfs))"
   ]
  },
  {
   "cell_type": "code",
   "execution_count": 140,
   "metadata": {},
   "outputs": [
    {
     "name": "stdout",
     "output_type": "stream",
     "text": [
      "[ 0.00331062  0.01202471 -0.0108471  -0.80338718  1.26910746 -1.59938756]\n"
     ]
    }
   ],
   "source": [
    "better_calibration = np.mean(better_calibration_tfs, axis=0)\n",
    "print(better_calibration)\n",
    "better_calibration = transformations.compose_matrix(translate=better_calibration[:3], angles=np.radians(better_calibration[3:]))"
   ]
  },
  {
   "cell_type": "markdown",
   "metadata": {},
   "source": [
    "Now optimise"
   ]
  },
  {
   "cell_type": "code",
   "execution_count": 141,
   "metadata": {},
   "outputs": [],
   "source": [
    "def apply_T(T, points):\n",
    "    \"\"\"Convert an array of 3D points into homogeneous coords, left-multiply by T, then convert back.\"\"\"\n",
    "    flipped = False\n",
    "    if points.shape[0] != 3:\n",
    "        assert points.shape[1] == 3, \"Points must be 3xN or Nx3\"\n",
    "        points = points.T\n",
    "        flipped = True\n",
    "    points_h = np.vstack((points, np.ones_like(points[0,:])))\n",
    "    points_transformed_h = np.dot(T, points_h)\n",
    "    points_transformed = points_transformed_h[:-1]\n",
    "    if flipped:\n",
    "        return points_transformed.T\n",
    "    return points_transformed\n",
    "\n",
    "# Filter outlier frames\n",
    "all_image_coordinates = all_image_coordinates[mask]\n",
    "matched_object_coordinates = matched_object_coordinates[mask]\n",
    "camera_rb_poses = camera_rb_poses[mask]\n",
    "\n",
    "# Project object points into camera rigid body frame beforehand, as one big array (not separated by bags)\n",
    "T_RO = np.dot(better_calibration, np.linalg.inv(T_c_o))\n",
    "object_coords_R = []\n",
    "\n",
    "for image_coords, object_coords_M_sorted, T_MRs in zip(all_image_coordinates, matched_object_coordinates, camera_rb_poses):\n",
    "    for i in range(len(image_coords)):\n",
    "        object_coords_R.append(apply_T(np.linalg.inv(T_MRs), np.array([object_coords_M_sorted[i]])))\n",
    "object_coords_R = np.vstack(object_coords_R)"
   ]
  },
  {
   "cell_type": "code",
   "execution_count": 142,
   "metadata": {},
   "outputs": [
    {
     "name": "stdout",
     "output_type": "stream",
     "text": [
      " active_mask: array([ 0.,  0.,  0.,  0.,  0.,  0.])\n",
      "        cost: 487.77217592548402\n",
      "         fun: array([ 1.23468121,  1.07373432,  0.48632884,  1.71481866,  1.26318757,\n",
      "        0.92292414,  1.66916606,  1.35331815,  1.01317364,  1.20722589,\n",
      "        0.92806848,  0.45095962,  2.30686085,  0.93323885,  0.48729177,\n",
      "        0.64859574,  0.9828303 ,  2.38851781,  1.67193027,  1.0720776 ,\n",
      "        2.06854487,  0.36941854,  1.38017642,  0.75950071,  0.46479886,\n",
      "        1.02195793,  2.44848062,  0.4930161 ,  0.68128762,  0.6725786 ,\n",
      "        0.86073946,  2.39976951,  1.8260771 ,  1.30986646,  2.07980444,\n",
      "        0.3124947 ,  1.78473283,  0.73460698,  0.18967941,  1.18742583,\n",
      "        1.91870289,  0.47551016,  0.74088022,  0.60904144,  0.56174086,\n",
      "        2.29032292,  1.52397613,  0.90770781,  1.84756669,  0.81129374,\n",
      "        1.58955681,  0.81502361,  0.76282893,  0.68277279,  2.10099938,\n",
      "        0.57110586,  0.60093765,  0.33599409,  0.97662595,  2.50105816,\n",
      "        1.78904038,  1.44715144,  2.1876754 ,  0.22876532,  1.63993537,\n",
      "        0.76069711,  0.35244794,  1.29714589,  2.31662849,  0.37775813,\n",
      "        0.56502779,  0.681222  ,  0.79911462,  2.53625977,  1.63344274,\n",
      "        1.03206756,  2.04161012,  0.32354489,  1.56156522,  0.51512828,\n",
      "        0.65555235,  1.13632417,  2.02076139,  0.41998004,  0.74053386,\n",
      "        0.55780975,  0.96946596,  2.31043976,  1.66094131,  1.06789144,\n",
      "        2.05597884,  0.49595856,  1.65826478,  0.81707125,  0.17771758,\n",
      "        1.12270849,  2.04321748,  0.4666825 ,  0.81467539,  0.76600864,\n",
      "        0.81163103,  2.01266625,  1.45069943,  0.86572656,  1.82415839,\n",
      "        1.07613435,  1.60065756,  0.82319018,  0.21348825,  0.76247392,\n",
      "        1.92668568,  0.60218966,  0.51983361,  0.60194634,  0.84959415,\n",
      "        1.94588708,  1.64936497,  1.52266691,  2.02376535,  0.44833862,\n",
      "        1.69742835,  0.71137126,  0.22154581,  1.12176078,  1.96624362,\n",
      "        0.50957719,  0.985954  ,  1.22578343,  0.68689856,  2.08630258,\n",
      "        1.48130613,  0.85120693,  1.87472309,  0.89237178,  1.35040189,\n",
      "        1.21359617,  0.72916145,  0.76864547,  2.06211434,  0.55757317,\n",
      "        1.10566665,  1.07087301,  0.44954725,  1.93701546,  1.38236922,\n",
      "        1.41258548,  1.74930491,  1.35816618,  1.08369651,  1.35545839,\n",
      "        0.85183743,  0.39861117,  2.31113009,  0.91643452,  0.94568869,\n",
      "        1.18662125,  0.48593544,  1.68667144,  1.30648922,  1.83826351,\n",
      "        1.74195795,  1.42449244,  1.01027381,  1.19361628,  0.842338  ,\n",
      "        0.40394587,  2.32240522,  0.88317677,  0.65038962,  1.39646976,\n",
      "        0.64618118,  1.70925718,  1.48245162,  0.8449572 ,  1.84479487,\n",
      "        0.91942078,  1.49472858,  0.79552087,  0.59728874,  0.76113626,\n",
      "        2.38528107,  0.5925026 ,  0.77922383,  0.56741524,  0.46745157,\n",
      "        2.08513822,  1.52160698,  1.5201822 ,  1.91287966,  0.73027103,\n",
      "        1.39401239,  0.84102564,  0.95583264,  0.71383394,  1.98468786,\n",
      "        0.52185737,  0.68931044,  0.64721695,  0.698077  ,  1.70915947,\n",
      "        1.46041342,  0.8634713 ,  1.84249406,  0.66528797,  1.44018509,\n",
      "        0.87795802,  0.75676898,  0.89852067,  2.06946025,  0.56047671,\n",
      "        0.98512383,  0.98966972,  0.4677426 ,  1.84309989,  1.3794636 ,\n",
      "        0.9139368 ,  1.79232993,  1.42160133,  1.08231004,  1.13122293,\n",
      "        0.74991826,  0.5788618 ,  2.1932523 ,  0.77650534,  0.41296253,\n",
      "        0.4831375 ,  0.86902351,  1.98190494,  1.76285318,  1.32065932,\n",
      "        2.07342243,  0.31199036,  1.73051152,  0.55499365,  0.71312232,\n",
      "        1.238492  ,  1.93317896,  0.49286969,  1.1023162 ,  1.20188861,\n",
      "        0.37135353,  1.82025403,  1.29590294,  0.90017871,  1.74086044,\n",
      "        1.24947771,  1.28937026,  1.21508313,  0.40363777,  0.26758606,\n",
      "        2.30693834,  0.90371363,  0.37092079,  0.65266468,  0.83929942,\n",
      "        2.30714522,  1.64834941,  1.50967945,  2.05035632,  0.32499647,\n",
      "        1.73681952,  0.88111066,  0.7416495 ,  1.04319765,  2.10342053,\n",
      "        0.51432425,  0.5228731 ,  0.8232747 ,  0.88587271,  2.33253469,\n",
      "        1.63625165,  1.33572341,  2.08567124,  0.44704746,  1.79030628,\n",
      "        0.85134828,  0.45295429,  1.1101513 ,  2.38599401,  0.47755628,\n",
      "        0.6820217 ,  0.42672125,  0.80641967,  2.28893155,  1.67123442,\n",
      "        1.03359434,  1.88342149,  0.41381595,  1.6595295 ,  0.76652485,\n",
      "        0.15956703,  1.16731135,  2.20055439,  0.44135916,  0.73869138,\n",
      "        0.35524591,  0.68192144,  2.15990062,  1.59836918,  1.23029676,\n",
      "        1.97379597,  0.48278956,  1.36744747,  0.48641394,  0.67493828,\n",
      "        1.0206806 ,  1.93364467,  0.44383363,  0.74136979,  1.46366765,\n",
      "        0.58834771,  1.91517041,  1.46824251,  0.98529837,  1.81585479,\n",
      "        0.98126546,  1.52680587,  0.88963146,  0.75229807,  0.7354121 ,\n",
      "        1.93102223,  0.63169321,  0.43804104,  0.63736709,  0.89346167,\n",
      "        2.27259373,  1.66366349,  1.12650056,  2.00440477,  0.41675047,\n",
      "        1.34896573,  0.77974409,  0.43152633,  0.940998  ,  1.78654503,\n",
      "        0.44070948,  1.04447891,  1.03241973,  0.47139969,  1.49813023,\n",
      "        1.20266993,  0.90203128,  1.65546055,  1.22807793,  1.53331023,\n",
      "        1.20634076,  0.87292965,  0.49583909,  2.35698709,  0.88529153,\n",
      "        0.89508997,  0.9151237 ,  0.4788708 ,  1.96154443,  1.27487386,\n",
      "        1.25141236,  1.69442032,  1.25016729,  1.57135897,  1.09060031,\n",
      "        0.72428816,  0.4270594 ,  2.24101679,  0.78480852,  0.67495442,\n",
      "        0.61783778,  0.66082795,  2.15288414,  1.59869841,  0.88380536,\n",
      "        1.91808238,  0.73202141,  1.61185483,  0.8332901 ,  0.78465045,\n",
      "        0.80457722,  2.02433715,  0.67104265,  0.97729277,  1.01340678,\n",
      "        0.52344438,  1.79985511,  1.20932635,  1.18348685,  1.64821566,\n",
      "        1.05832011,  1.60978102,  1.12284305,  0.39181636,  0.58041501,\n",
      "        2.29683724,  0.83562086,  0.3365291 ,  0.5913429 ,  0.89181316,\n",
      "        2.35753921,  1.69704388,  1.11970929,  2.08886233,  0.30667132,\n",
      "        1.67149089,  0.59590796,  0.72462508,  1.09683876,  2.47746265,\n",
      "        0.52437143,  0.95050468,  1.03696663,  0.61964098,  1.72481282,\n",
      "        1.41567531,  0.74482681,  1.64649493,  1.13964674,  1.59344457,\n",
      "        1.15066825,  0.90185388,  0.53883368,  2.32413518,  0.83767709,\n",
      "        1.22628508,  1.18559385,  0.31549894,  1.85427377,  1.12402192,\n",
      "        0.98279935,  1.62232892,  1.41774865,  1.49334505,  1.42956878,\n",
      "        1.03030535,  0.08895246,  2.42362377,  1.08331431,  0.84154014,\n",
      "        0.77456913,  0.60900619,  2.00736715,  1.47525467,  0.85224149,\n",
      "        1.80457067,  0.76134726,  1.44874058,  0.83317644,  0.78987137,\n",
      "        0.60224484,  2.25908059,  0.63150729,  1.22409948,  1.12616818,\n",
      "        0.40709908,  1.606104  ,  1.11519597,  0.72441771,  1.54721435,\n",
      "        1.32762681,  1.53472287,  1.50933837,  1.06770055,  0.22274051,\n",
      "        2.57393487,  0.97267914,  1.3758628 ,  1.04390366,  0.50168343,\n",
      "        1.5647709 ,  1.07472592,  1.12620179,  1.54310994,  1.46373504,\n",
      "        1.53854064,  1.51488029,  1.06798007,  0.09252004,  2.51292891,\n",
      "        1.13113275,  0.81192972,  0.92830684,  0.65039184,  1.5845117 ,\n",
      "        1.36833615,  1.77314264,  1.73446969,  1.09193915,  1.44884747,\n",
      "        1.06909397,  0.80225629,  0.37763553,  2.48681575,  0.79003271,\n",
      "        0.76210024,  0.62165307,  0.59278357,  1.90544179,  1.40105195,\n",
      "        0.83173137,  1.80187783,  0.74107191,  1.60020132,  0.88379446,\n",
      "        0.59131282,  0.74909667,  2.42611087,  0.62124643,  1.15070338,\n",
      "        1.09958947,  0.44967825,  1.84706201,  1.28043471,  1.98454161,\n",
      "        1.74545606,  1.35058141,  1.31734471,  1.21371816,  0.98404432,\n",
      "        0.36973006,  2.25599585,  0.96448237,  1.10351991,  1.02838465,\n",
      "        0.46237918,  1.6263276 ,  1.3162791 ,  1.20740085,  1.74681092,\n",
      "        1.31035636,  1.17655212,  1.18589063,  0.43889942,  0.20185804,\n",
      "        2.29477767,  0.91119388,  1.03454823,  1.15513064,  0.46253466,\n",
      "        1.67039871,  1.21823597,  0.82557213,  1.64599693,  1.34600223,\n",
      "        1.41104696,  1.29415323,  0.95797242,  0.28998888,  2.35753802,\n",
      "        1.00364809,  0.68439001,  0.60816862,  0.76465437,  2.26219309,\n",
      "        1.60713205,  1.36998077,  2.02492643,  0.73315535,  1.58763052,\n",
      "        0.56512382,  0.21462583,  0.93778335,  1.95120862,  0.48708973,\n",
      "        1.23973594,  0.88416899,  0.51468076,  1.87861572,  1.24887929,\n",
      "        1.20193645,  1.692439  ,  1.40117405,  1.31777327,  1.31863889,\n",
      "        0.90187539,  0.1909945 ,  2.37441939,  0.9589575 ])\n",
      "        grad: array([ -1.97436633, -10.19517944, -21.25542548,  -0.8926203 ,\n",
      "         5.52653544,  -2.05613481])\n",
      "         jac: array([[  561.41478844,  -379.43636847,  1600.97243048,  -200.3768567 ,\n",
      "        -1510.19007169,  -268.1377766 ],\n",
      "       [ -126.5285694 , -1171.51338239,  1150.80731133,  -598.16723596,\n",
      "         -940.70540306, -1010.08603451],\n",
      "       [   58.8214433 ,  -971.56282238,  -703.17035186,  -433.88636319,\n",
      "          788.97968803, -1145.22592684],\n",
      "       ..., \n",
      "       [  321.07682901,   476.002428  ,  -918.89228214,   -21.7175227 ,\n",
      "         1343.63954697,   708.08125425],\n",
      "       [ -524.60414308,  -800.03365219,   523.49265963,    45.73581991,\n",
      "         -958.38950303, -1483.83336255],\n",
      "       [ -377.06371959,  -371.5396295 ,   903.34418935,    21.8789764 ,\n",
      "        -1470.42325251,  -620.00233529]])\n",
      "     message: '`ftol` termination condition is satisfied.'\n",
      "        nfev: 126\n",
      "        njev: 114\n",
      "  optimality: 21.255425475225707\n",
      "      status: 2\n",
      "     success: True\n",
      "           x: array([ 0.00253584,  0.01420037, -0.00727408, -0.01395151,  0.02482445,\n",
      "       -0.02949012])\n"
     ]
    }
   ],
   "source": [
    "# Helper functions\n",
    "def se3_to_T(rvec, tvec):\n",
    "    \"\"\"Convert an se(3) OpenCV pose to a 4x4 transformation matrix.\n",
    "    \n",
    "    OpenCV poses are an Euler-Rodrigues rotation vector and a translation vector.\n",
    "    \"\"\"\n",
    "    R, _ = cv2.Rodrigues(rvec)\n",
    "    euler_angles = transformations.euler_from_matrix(R)\n",
    "    return transformations.compose_matrix(angles=euler_angles, translate=np.squeeze(tvec))\n",
    "\n",
    "def T_to_se3(T):\n",
    "    \"\"\"Convert a 4x4 transformation matrix to an se(3) OpenCV pose.\"\"\"\n",
    "    rvec, _ = cv2.Rodrigues(T[:3, :3])\n",
    "    tvec = T[:3, 3]\n",
    "    return rvec, tvec\n",
    "\n",
    "def tf_to_T(tf):\n",
    "    \"\"\"Convert a (tx, ty, tz, rx, ry, rz) tuple to a 4x4 transformation matrix.\"\"\"\n",
    "    if len(tf) == 6:\n",
    "        # Single transform\n",
    "        return transformations.compose_matrix(angles=tf[3:], translate=tf[:3])\n",
    "    else:\n",
    "        # Array of transforms\n",
    "        assert tf.shape[1] == 6, \"Transform array must be Nx6\"\n",
    "        return np.vstack([tf_to_T(row) for row in tf])\n",
    "\n",
    "def T_to_tf(T):\n",
    "    \"\"\"Convert a 4x4 transformation matrix to a (tx, ty, tz, rx, ry, rz) tuple.\"\"\"\n",
    "    if T.shape == (4, 4):\n",
    "        # Single transform\n",
    "        _, _, rot, trans, _ = transformations.decompose_matrix(T)\n",
    "        return np.hstack((trans, rot))\n",
    "    else:\n",
    "        # Array of transforms\n",
    "        assert T.shape[1:] == (4, 4), \"Transform array must be Nx4x4\"\n",
    "        return np.array([T_to_tf(row) for row in T])\n",
    "\n",
    "def project_markers(T_object_camera, markers, camera_matrix, distortion_coeffs):\n",
    "    \"\"\"\"\"\"\n",
    "    T_camera_object = np.linalg.inv(T_object_camera)\n",
    "    rvec, tvec = T_to_se3(T_camera_object)\n",
    "    markers2d, _ = cv2.projectPoints(markers, rvec, tvec, camera_matrix, distortion_coeffs)\n",
    "    return np.squeeze(markers2d)\n",
    "    \n",
    "def reprojection_error_vector(T, markers, image_coords, camera_matrix, distortion_coeffs, debug=False):\n",
    "    \"\"\"Return the reprojection error for each marker as a vector.\"\"\"\n",
    "    projected_coords = project_markers(T, markers, camera_matrix, distortion_coeffs)\n",
    "    difference = projected_coords - image_coords\n",
    "    squared_distance = np.linalg.norm(difference, axis=1)\n",
    "    if debug:\n",
    "        print(np.hstack((projected_coords, image_coords)))\n",
    "        print(np.hstack((projected_coords, match_coords(projected_coords, image_coords))))\n",
    "        print(difference)\n",
    "    return squared_distance\n",
    "\n",
    "def reprojection_error_mean(*args, **kwargs):\n",
    "    \"\"\"Return the mean reprojection error.\"\"\"\n",
    "    return np.mean(reprojection_error_vector(*args, **kwargs))\n",
    "\n",
    "image_coords = np.vstack(np.vstack(all_image_coordinates))\n",
    "prior = T_to_tf(better_calibration)\n",
    "\n",
    "def f(tf_RC):\n",
    "    T_RO = np.dot(tf_to_T(tf_RC), T_c_o)\n",
    "    return reprojection_error_vector(T_RO, object_coords_R, image_coords, camera_matrix, distortion_coeffs)\n",
    "\n",
    "res = scipy.optimize.least_squares(f, prior)\n",
    "print(res)"
   ]
  },
  {
   "cell_type": "code",
   "execution_count": 143,
   "metadata": {},
   "outputs": [
    {
     "name": "stdout",
     "output_type": "stream",
     "text": [
      "[ 0.00331062  0.01202471 -0.0108471  -0.01402175  0.0221501  -0.02791458]\n",
      "[ 0.00253584  0.01420037 -0.00727408 -0.01395151  0.02482445 -0.02949012]\n",
      "1.4731196427\n",
      "1.16774029744\n"
     ]
    }
   ],
   "source": [
    "print(prior)\n",
    "print(res.x)\n",
    "\n",
    "print(np.mean(f(prior)))\n",
    "print(np.mean(f(res.x)))"
   ]
  },
  {
   "cell_type": "markdown",
   "metadata": {},
   "source": [
    "## Do the same but K-fold"
   ]
  },
  {
   "cell_type": "code",
   "execution_count": 84,
   "metadata": {},
   "outputs": [
    {
     "name": "stdout",
     "output_type": "stream",
     "text": [
      "Num inliers 12/32\n",
      "[-0.01318685  0.06355566  0.02056703 -0.0513646   0.05416508 -0.05655019]\n"
     ]
    }
   ],
   "source": [
    "is_checkerboard = True\n",
    "# is_checkerboard = False\n",
    "data = np.load(\"../data/board_data.npz\")\n",
    "# data = np.load(\"../data/marker_data.npz\")\n",
    "\n",
    "bag_files = data['bag_files']\n",
    "\n",
    "calibration_object_marker_counts = data['calibration_object_marker_counts']\n",
    "camera_marker_counts = data['camera_marker_counts']\n",
    "\n",
    "camera_matrix = data['camera_matrix']\n",
    "distortion_coeffs = data['distortion_coeffs']\n",
    "\n",
    "T_c_o = data['cam_to_optical_frame']\n",
    "camera_rb_poses = data['camera_rb_poses']\n",
    "\n",
    "all_image_coordinates = data['image_coordinates']\n",
    "all_object_coordinates = data['object_coordinates']\n",
    "\n",
    "\n",
    "def calibrate(all_image_coordinates, all_object_coordinates, T_c_o, camera_rb_poses, camera_matrix, distortion_coeffs, is_checkerboard):\n",
    "    if is_checkerboard:\n",
    "        filter_mask = create_insufficient_markers_mask(\n",
    "        camera_marker_counts, calibration_object_marker_counts, 5, 5)\n",
    "    else:\n",
    "        filter_mask = create_insufficient_markers_mask(\n",
    "            camera_marker_counts, calibration_object_marker_counts, 6, 14)\n",
    "\n",
    "    camera_rb_poses = camera_rb_poses[filter_mask]\n",
    "    all_image_coordinates = all_image_coordinates[filter_mask]\n",
    "    all_object_coordinates = all_object_coordinates[filter_mask]\n",
    "    \n",
    "    optical_frame_priors = calculate_optical_frame_poses(camera_rb_poses, np.identity(4), T_c_o)\n",
    "    \n",
    "    matched_object_coordinates = []\n",
    "    \n",
    "    for i, (image_coordinates, object_coordinates, optical_frame_prior) in enumerate(zip(all_image_coordinates, all_object_coordinates, optical_frame_priors)):\n",
    "        if is_checkerboard:\n",
    "            matched_object_coordinates.append(match_checkerboard_corners(image_coordinates, object_coordinates, optical_frame_prior, camera_matrix, distortion_coeffs))\n",
    "        else:\n",
    "            matched_object_coordinates.append(match_markers(image_coordinates, object_coordinates, optical_frame_prior, camera_matrix, distortion_coeffs))\n",
    "\n",
    "    matched_object_coordinates = np.array(matched_object_coordinates)\n",
    "    \n",
    "    calibration_transforms = []\n",
    "    for image_coordinates, object_coordinates, camera_rb_pose in zip(all_image_coordinates, matched_object_coordinates, camera_rb_poses):\n",
    "        optical_frame_pose = estimate_pose_ransac(image_coordinates, object_coordinates, camera_matrix, distortion_coeffs)\n",
    "        camera_link_pose = np.matmul(optical_frame_pose, np.linalg.inv(T_c_o))\n",
    "        calibration_transform = np.matmul(np.linalg.inv(camera_rb_pose), camera_link_pose)\n",
    "        calibration_transforms.append(calibration_transform)\n",
    "        \n",
    "    calibration_tfs = Ts_to_tfs(calibration_transforms)\n",
    "    calibration_tf_inliers, _ = remove_outliers(calibration_tfs)\n",
    "    \n",
    "    initial_estimate = np.mean(calibration_tf_inliers, axis=0)\n",
    "    initial_estimate = transformations.compose_matrix(translate=initial_estimate[:3], angles=np.radians(initial_estimate[3:]))\n",
    "    optical_frame_priors = calculate_optical_frame_poses(camera_rb_poses, initial_estimate, T_c_o)\n",
    "    matched_object_coordinates = []\n",
    "    for i, (image_coordinates, object_coordinates, optical_frame_prior) in enumerate(zip(all_image_coordinates, all_object_coordinates, optical_frame_priors)):\n",
    "        matched_object_coordinates.append(match_markers(image_coordinates, object_coordinates, optical_frame_prior, camera_matrix, distortion_coeffs))\n",
    "    matched_object_coordinates = np.array(matched_object_coordinates)\n",
    "    \n",
    "    better_calibration_transforms = []\n",
    "    for image_coordinates, object_coordinates, camera_rb_pose in zip(all_image_coordinates, matched_object_coordinates, camera_rb_poses):\n",
    "        optical_frame_pose = estimate_pose(image_coordinates, object_coordinates, camera_matrix, distortion_coeffs, initial_estimate)\n",
    "        camera_link_pose = np.matmul(optical_frame_pose, np.linalg.inv(T_c_o))\n",
    "        calibration_transform = np.matmul(np.linalg.inv(camera_rb_pose), camera_link_pose)\n",
    "        better_calibration_transforms.append(calibration_transform)\n",
    "\n",
    "    better_calibration_tfs = Ts_to_tfs(better_calibration_transforms)\n",
    "    better_calibration_tfs, mask = remove_outliers(better_calibration_tfs)\n",
    "    \n",
    "    better_calibration = np.mean(better_calibration_tfs, axis=0)\n",
    "    better_calibration = transformations.compose_matrix(translate=better_calibration[:3], angles=np.radians(better_calibration[3:]))\n",
    "    \n",
    "    # Filter outlier frames\n",
    "    count = len(all_image_coordinates)\n",
    "    all_image_coordinates = all_image_coordinates[mask]\n",
    "    matched_object_coordinates = matched_object_coordinates[mask]\n",
    "    camera_rb_poses = camera_rb_poses[mask]\n",
    "    print(\"Num inliers {}/{}\".format(len(all_image_coordinates), count))\n",
    "\n",
    "    # Project object points into camera rigid body frame beforehand, as one big array (not separated by bags)\n",
    "    T_RO = np.dot(better_calibration, np.linalg.inv(T_c_o))\n",
    "    object_coords_R = []\n",
    "\n",
    "    for image_coords, object_coords_M_sorted, T_MRs in zip(all_image_coordinates, matched_object_coordinates, camera_rb_poses):\n",
    "        for i in range(len(image_coords)):\n",
    "            object_coords_R.append(apply_T(np.linalg.inv(T_MRs), np.array([object_coords_M_sorted[i]])))\n",
    "    object_coords_R = np.vstack(object_coords_R)\n",
    "    \n",
    "    image_coords = np.vstack(np.vstack(all_image_coordinates))\n",
    "    prior = T_to_tf(better_calibration)\n",
    "\n",
    "    res = scipy.optimize.least_squares(f, prior, verbose=0)\n",
    "    return res.x \n",
    "    \n",
    "    \n",
    "result = calibrate(all_image_coordinates, all_object_coordinates, T_c_o, camera_rb_poses, camera_matrix, distortion_coeffs, True)\n",
    "print(result)\n",
    "\n",
    "def calibrate_k_mean(k, file_, is_checkerboard):\n",
    "    \"\"\"\n",
    "    Do k-mean cross validation\n",
    "    \"\"\"\n",
    "    pass"
   ]
  },
  {
   "cell_type": "code",
   "execution_count": null,
   "metadata": {},
   "outputs": [],
   "source": []
  }
 ],
 "metadata": {
  "kernelspec": {
   "display_name": "Python 2",
   "language": "python",
   "name": "python2"
  },
  "language_info": {
   "codemirror_mode": {
    "name": "ipython",
    "version": 2
   },
   "file_extension": ".py",
   "mimetype": "text/x-python",
   "name": "python",
   "nbconvert_exporter": "python",
   "pygments_lexer": "ipython2",
   "version": "2.7.12"
  }
 },
 "nbformat": 4,
 "nbformat_minor": 2
}
