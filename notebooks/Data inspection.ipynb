{
 "cells": [
  {
   "cell_type": "markdown",
   "metadata": {},
   "source": [
    "# Notebook for checking that my data is what I expect"
   ]
  },
  {
   "cell_type": "code",
   "execution_count": 3,
   "metadata": {},
   "outputs": [],
   "source": [
    "from __future__ import division, print_function, absolute_import\n",
    "\n",
    "import time\n",
    "import random\n",
    "import glob\n",
    "import os.path\n",
    "import textwrap\n",
    "\n",
    "from IPython.display import display, HTML, Image, Latex\n",
    "\n",
    "%matplotlib inline\n",
    "%config InlineBackend.figure_format='retina'\n",
    "import matplotlib.pyplot as plt\n",
    "import matplotlib.gridspec as gridspec\n",
    "plt.rcParams['figure.figsize'] = 8, 8\n",
    "import seaborn as sns\n",
    "sns.set_style('white')\n",
    "\n",
    "import numpy as np\n",
    "import pandas as pd\n",
    "import scipy.optimize\n",
    "import scipy.spatial\n",
    "import scipy.stats\n",
    "import cv2\n",
    "from tf import transformations\n",
    "import inspect"
   ]
  },
  {
   "cell_type": "code",
   "execution_count": 3,
   "metadata": {},
   "outputs": [
    {
     "data": {
      "text/html": [
       "<div>\n",
       "<style scoped>\n",
       "    .dataframe tbody tr th:only-of-type {\n",
       "        vertical-align: middle;\n",
       "    }\n",
       "\n",
       "    .dataframe tbody tr th {\n",
       "        vertical-align: top;\n",
       "    }\n",
       "\n",
       "    .dataframe thead th {\n",
       "        text-align: right;\n",
       "    }\n",
       "</style>\n",
       "<table border=\"1\" class=\"dataframe\">\n",
       "  <thead>\n",
       "    <tr style=\"text-align: right;\">\n",
       "      <th></th>\n",
       "      <th>x</th>\n",
       "      <th>y</th>\n",
       "      <th>z</th>\n",
       "      <th>roll</th>\n",
       "      <th>pitch</th>\n",
       "      <th>yaw</th>\n",
       "    </tr>\n",
       "  </thead>\n",
       "  <tbody>\n",
       "    <tr>\n",
       "      <th>0</th>\n",
       "      <td>-0.007029</td>\n",
       "      <td>0.018354</td>\n",
       "      <td>-0.010383</td>\n",
       "      <td>0.009594</td>\n",
       "      <td>0.050396</td>\n",
       "      <td>0.024129</td>\n",
       "    </tr>\n",
       "    <tr>\n",
       "      <th>1</th>\n",
       "      <td>-0.006394</td>\n",
       "      <td>0.019277</td>\n",
       "      <td>-0.009494</td>\n",
       "      <td>0.009973</td>\n",
       "      <td>0.050712</td>\n",
       "      <td>0.023212</td>\n",
       "    </tr>\n",
       "    <tr>\n",
       "      <th>2</th>\n",
       "      <td>-0.006378</td>\n",
       "      <td>0.018236</td>\n",
       "      <td>-0.010283</td>\n",
       "      <td>0.010368</td>\n",
       "      <td>0.050273</td>\n",
       "      <td>0.023989</td>\n",
       "    </tr>\n",
       "    <tr>\n",
       "      <th>3</th>\n",
       "      <td>-0.006874</td>\n",
       "      <td>0.018793</td>\n",
       "      <td>-0.009106</td>\n",
       "      <td>0.010941</td>\n",
       "      <td>0.051137</td>\n",
       "      <td>0.023820</td>\n",
       "    </tr>\n",
       "    <tr>\n",
       "      <th>4</th>\n",
       "      <td>-0.006564</td>\n",
       "      <td>0.019117</td>\n",
       "      <td>-0.009241</td>\n",
       "      <td>0.009808</td>\n",
       "      <td>0.051090</td>\n",
       "      <td>0.023317</td>\n",
       "    </tr>\n",
       "  </tbody>\n",
       "</table>\n",
       "</div>"
      ],
      "text/plain": [
       "          x         y         z      roll     pitch       yaw\n",
       "0 -0.007029  0.018354 -0.010383  0.009594  0.050396  0.024129\n",
       "1 -0.006394  0.019277 -0.009494  0.009973  0.050712  0.023212\n",
       "2 -0.006378  0.018236 -0.010283  0.010368  0.050273  0.023989\n",
       "3 -0.006874  0.018793 -0.009106  0.010941  0.051137  0.023820\n",
       "4 -0.006564  0.019117 -0.009241  0.009808  0.051090  0.023317"
      ]
     },
     "execution_count": 3,
     "metadata": {},
     "output_type": "execute_result"
    }
   ],
   "source": [
    "\n",
    "data = np.load(\"../data/marker_calibration.npz\")\n",
    "df = pd.DataFrame(data=data[\"t_rcs\"], columns=[\"x\",\"y\",\"z\", \"roll\",\"pitch\", \"yaw\"])\n",
    "df"
   ]
  },
  {
   "cell_type": "code",
   "execution_count": 4,
   "metadata": {},
   "outputs": [
    {
     "data": {
      "text/html": [
       "<div>\n",
       "<style scoped>\n",
       "    .dataframe tbody tr th:only-of-type {\n",
       "        vertical-align: middle;\n",
       "    }\n",
       "\n",
       "    .dataframe tbody tr th {\n",
       "        vertical-align: top;\n",
       "    }\n",
       "\n",
       "    .dataframe thead th {\n",
       "        text-align: right;\n",
       "    }\n",
       "</style>\n",
       "<table border=\"1\" class=\"dataframe\">\n",
       "  <thead>\n",
       "    <tr style=\"text-align: right;\">\n",
       "      <th></th>\n",
       "      <th>x</th>\n",
       "      <th>y</th>\n",
       "      <th>z</th>\n",
       "      <th>roll</th>\n",
       "      <th>pitch</th>\n",
       "      <th>yaw</th>\n",
       "    </tr>\n",
       "  </thead>\n",
       "  <tbody>\n",
       "    <tr>\n",
       "      <th>0</th>\n",
       "      <td>-0.013384</td>\n",
       "      <td>0.014086</td>\n",
       "      <td>-0.006880</td>\n",
       "      <td>0.016111</td>\n",
       "      <td>0.051603</td>\n",
       "      <td>0.028777</td>\n",
       "    </tr>\n",
       "    <tr>\n",
       "      <th>1</th>\n",
       "      <td>-0.013570</td>\n",
       "      <td>0.014193</td>\n",
       "      <td>-0.006426</td>\n",
       "      <td>0.015043</td>\n",
       "      <td>0.052642</td>\n",
       "      <td>0.028176</td>\n",
       "    </tr>\n",
       "    <tr>\n",
       "      <th>2</th>\n",
       "      <td>-0.013661</td>\n",
       "      <td>0.014105</td>\n",
       "      <td>-0.007261</td>\n",
       "      <td>0.014912</td>\n",
       "      <td>0.051095</td>\n",
       "      <td>0.029069</td>\n",
       "    </tr>\n",
       "    <tr>\n",
       "      <th>3</th>\n",
       "      <td>-0.013533</td>\n",
       "      <td>0.014703</td>\n",
       "      <td>-0.008155</td>\n",
       "      <td>0.015520</td>\n",
       "      <td>0.049091</td>\n",
       "      <td>0.028422</td>\n",
       "    </tr>\n",
       "    <tr>\n",
       "      <th>4</th>\n",
       "      <td>-0.013636</td>\n",
       "      <td>0.014154</td>\n",
       "      <td>-0.008333</td>\n",
       "      <td>0.015693</td>\n",
       "      <td>0.049263</td>\n",
       "      <td>0.029179</td>\n",
       "    </tr>\n",
       "    <tr>\n",
       "      <th>5</th>\n",
       "      <td>-0.013224</td>\n",
       "      <td>0.014840</td>\n",
       "      <td>-0.007879</td>\n",
       "      <td>0.015108</td>\n",
       "      <td>0.049958</td>\n",
       "      <td>0.027850</td>\n",
       "    </tr>\n",
       "  </tbody>\n",
       "</table>\n",
       "</div>"
      ],
      "text/plain": [
       "          x         y         z      roll     pitch       yaw\n",
       "0 -0.013384  0.014086 -0.006880  0.016111  0.051603  0.028777\n",
       "1 -0.013570  0.014193 -0.006426  0.015043  0.052642  0.028176\n",
       "2 -0.013661  0.014105 -0.007261  0.014912  0.051095  0.029069\n",
       "3 -0.013533  0.014703 -0.008155  0.015520  0.049091  0.028422\n",
       "4 -0.013636  0.014154 -0.008333  0.015693  0.049263  0.029179\n",
       "5 -0.013224  0.014840 -0.007879  0.015108  0.049958  0.027850"
      ]
     },
     "execution_count": 4,
     "metadata": {},
     "output_type": "execute_result"
    }
   ],
   "source": [
    "data = np.load(\"../data/board_calibration.npz\")\n",
    "df = pd.DataFrame(data=data[\"t_rcs\"], columns=[\"x\",\"y\",\"z\", \"roll\",\"pitch\", \"yaw\"])\n",
    "df"
   ]
  },
  {
   "cell_type": "code",
   "execution_count": 16,
   "metadata": {},
   "outputs": [
    {
     "name": "stdout",
     "output_type": "stream",
     "text": [
      "17\n",
      "31\n"
     ]
    }
   ],
   "source": [
    "data = np.load(\"../data/all_markers_10_9_18.npz\")\n",
    "print(len(set(data[\"bag_files\"])))\n",
    "\n",
    "data = np.load(\"../data/all_boards_10_9_18.npz\")\n",
    "print(len(set(data[\"bag_files\"])))"
   ]
  },
  {
   "cell_type": "code",
   "execution_count": 10,
   "metadata": {},
   "outputs": [
    {
     "data": {
      "text/plain": [
       "23"
      ]
     },
     "execution_count": 10,
     "metadata": {},
     "output_type": "execute_result"
    }
   ],
   "source": [
    "data = np.load(\"../data/all_boards.npz\")\n",
    "# print(list(data[\"camera_marker_counts\"]).count(6))\n",
    "# print(list(data[\"camera_marker_counts\"]).count(5))\n",
    "len(set(data[\"bag_files\"]))"
   ]
  },
  {
   "cell_type": "code",
   "execution_count": 19,
   "metadata": {},
   "outputs": [
    {
     "name": "stdout",
     "output_type": "stream",
     "text": [
      "22_2018-09-10-12-52-46.bag\n",
      "23_2018-09-10-12-52-59.bag\n",
      "24_2018-09-10-12-53-17.bag\n",
      "25_2018-09-10-12-53-28.bag\n",
      "26_2018-09-10-12-53-55.bag\n",
      "27_2018-09-10-12-54-06.bag\n",
      "28_2018-09-10-12-54-26.bag\n",
      "29_2018-09-10-12-54-39.bag\n",
      "30_2018-09-10-12-54-50.bag\n",
      "31_2018-09-10-12-55-19.bag\n",
      "32_2018-09-10-12-55-30.bag\n",
      "33_2018-09-10-12-55-41.bag\n",
      "34_2018-09-10-12-55-52.bag\n",
      "35_2018-09-10-12-56-02.bag\n",
      "36_2018-09-10-12-56-16.bag\n",
      "37_2018-09-10-12-56-30.bag\n",
      "38_2018-09-10-12-56-42.bag\n",
      "39_2018-09-10-12-56-59.bag\n",
      "40_2018-09-10-12-57-13.bag\n"
     ]
    }
   ],
   "source": [
    "a = ['/home/sam/Desktop/calibration_data_10-9-18/markers/27_2018-09-10-12-54-06.bag', '/home/sam/Desktop/calibration_data_10-9-18/markers/31_2018-09-10-12-55-19.bag', '/home/sam/Desktop/calibration_data_10-9-18/markers/29_2018-09-10-12-54-39.bag', '/home/sam/Desktop/calibration_data_10-9-18/markers/24_2018-09-10-12-53-17.bag', '/home/sam/Desktop/calibration_data_10-9-18/markers/39_2018-09-10-12-56-59.bag', '/home/sam/Desktop/calibration_data_10-9-18/markers/26_2018-09-10-12-53-55.bag', '/home/sam/Desktop/calibration_data_10-9-18/markers/40_2018-09-10-12-57-13.bag', '/home/sam/Desktop/calibration_data_10-9-18/markers/28_2018-09-10-12-54-26.bag', '/home/sam/Desktop/calibration_data_10-9-18/markers/35_2018-09-10-12-56-02.bag', '/home/sam/Desktop/calibration_data_10-9-18/markers/25_2018-09-10-12-53-28.bag', '/home/sam/Desktop/calibration_data_10-9-18/markers/22_2018-09-10-12-52-46.bag', '/home/sam/Desktop/calibration_data_10-9-18/markers/23_2018-09-10-12-52-59.bag', '/home/sam/Desktop/calibration_data_10-9-18/markers/37_2018-09-10-12-56-30.bag', '/home/sam/Desktop/calibration_data_10-9-18/markers/38_2018-09-10-12-56-42.bag', '/home/sam/Desktop/calibration_data_10-9-18/markers/34_2018-09-10-12-55-52.bag', '/home/sam/Desktop/calibration_data_10-9-18/markers/36_2018-09-10-12-56-16.bag', '/home/sam/Desktop/calibration_data_10-9-18/markers/33_2018-09-10-12-55-41.bag', '/home/sam/Desktop/calibration_data_10-9-18/markers/32_2018-09-10-12-55-30.bag', '/home/sam/Desktop/calibration_data_10-9-18/markers/30_2018-09-10-12-54-50.bag']\n",
    "for bag in sorted(a):\n",
    "    print(bag.split(\"/\")[-1])"
   ]
  },
  {
   "cell_type": "code",
   "execution_count": null,
   "metadata": {},
   "outputs": [],
   "source": []
  }
 ],
 "metadata": {
  "kernelspec": {
   "display_name": "Python 2",
   "language": "python",
   "name": "python2"
  },
  "language_info": {
   "codemirror_mode": {
    "name": "ipython",
    "version": 2
   },
   "file_extension": ".py",
   "mimetype": "text/x-python",
   "name": "python",
   "nbconvert_exporter": "python",
   "pygments_lexer": "ipython2",
   "version": "2.7.12"
  }
 },
 "nbformat": 4,
 "nbformat_minor": 2
}
